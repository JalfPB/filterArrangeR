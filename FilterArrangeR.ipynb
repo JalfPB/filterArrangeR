{
  "nbformat": 4,
  "nbformat_minor": 0,
  "metadata": {
    "colab": {
      "provenance": []
    },
    "kernelspec": {
      "name": "ir",
      "display_name": "R"
    },
    "language_info": {
      "name": "R"
    }
  },
  "cells": [
    {
      "cell_type": "code",
      "execution_count": 1,
      "metadata": {
        "id": "blcqhNPpheMM",
        "colab": {
          "base_uri": "https://localhost:8080/",
          "height": 287
        },
        "outputId": "e6caf0f7-823a-4fe8-a433-e8f0ae5628b1"
      },
      "outputs": [
        {
          "output_type": "stream",
          "name": "stderr",
          "text": [
            "── \u001b[1mAttaching core tidyverse packages\u001b[22m ──────────────────────── tidyverse 2.0.0 ──\n",
            "\u001b[32m✔\u001b[39m \u001b[34mdplyr    \u001b[39m 1.1.4     \u001b[32m✔\u001b[39m \u001b[34mreadr    \u001b[39m 2.1.5\n",
            "\u001b[32m✔\u001b[39m \u001b[34mforcats  \u001b[39m 1.0.0     \u001b[32m✔\u001b[39m \u001b[34mstringr  \u001b[39m 1.5.1\n",
            "\u001b[32m✔\u001b[39m \u001b[34mggplot2  \u001b[39m 3.4.4     \u001b[32m✔\u001b[39m \u001b[34mtibble   \u001b[39m 3.2.1\n",
            "\u001b[32m✔\u001b[39m \u001b[34mlubridate\u001b[39m 1.9.3     \u001b[32m✔\u001b[39m \u001b[34mtidyr    \u001b[39m 1.3.1\n",
            "\u001b[32m✔\u001b[39m \u001b[34mpurrr    \u001b[39m 1.0.2     \n",
            "── \u001b[1mConflicts\u001b[22m ────────────────────────────────────────── tidyverse_conflicts() ──\n",
            "\u001b[31m✖\u001b[39m \u001b[34mdplyr\u001b[39m::\u001b[32mfilter()\u001b[39m masks \u001b[34mstats\u001b[39m::filter()\n",
            "\u001b[31m✖\u001b[39m \u001b[34mdplyr\u001b[39m::\u001b[32mlag()\u001b[39m    masks \u001b[34mstats\u001b[39m::lag()\n",
            "\u001b[36mℹ\u001b[39m Use the conflicted package (\u001b[3m\u001b[34m<http://conflicted.r-lib.org/>\u001b[39m\u001b[23m) to force all conflicts to become errors\n"
          ]
        },
        {
          "output_type": "error",
          "ename": "ERROR",
          "evalue": "Error in library(sjlabelled): there is no package called ‘sjlabelled’\n",
          "traceback": [
            "Error in library(sjlabelled): there is no package called ‘sjlabelled’\nTraceback:\n",
            "1. library(sjlabelled)"
          ]
        }
      ],
      "source": [
        "library (tidyverse)\n",
        "library (haven)\n",
        "library(sjlabelled)\n",
        "library(pillar)\n",
        "\n",
        "#El csv ha sido obtenido de https://www.kaggle.com/datasets/uciml/adult-census-income\n",
        "\n",
        "#Se lee el csv con los datos y se pasa a tibble\n",
        "censo <- read_csv(\"./Data/adult.csv\") %>%\n",
        "  remove_all_labels() %>%\n",
        "  as_tibble()\n",
        "\n",
        "#Nos quedamos con las personas que nunca se han casado\n",
        "\n",
        "nmarried <- censo %>%\n",
        "  select(marital.status, contains(\"Never_married\"))\n",
        "\n",
        "glimpse(nmarried)\n",
        "\n",
        "#Usando una funcion de dpylr para filtrar columnas, se filtra el dataset para\n",
        "#encontrar los hombres que ganan mas de 50k\n",
        "\n",
        "hombresMas50k <- censo %>% filter(sex == 'Male' & income == '>50K')\n",
        "\n",
        "glimpse(hombresMas50k)\n",
        "\n",
        "#Usando la misma funcion,ver quien tiene un bachelors degree y ademas sean de EEUU\n",
        "\n",
        "bachelorsEEUU <- censo %>% filter(education == 'Bachelors' & native.country == 'United-States')\n",
        "\n",
        "glimpse(bachelorsEEUU)\n",
        "\n",
        "#Ordenar por horas trabajadas\n",
        "\n",
        "censoHoras <- censo[order(censo$hours.per.week), ]\n",
        "\n",
        "glimpse(censoHoras)\n",
        "\n",
        "#Igual, pero usando la funcion arrange de dpylr\n",
        "\n",
        "censoHoras <- arrange(censo,hours.per.week)\n",
        "glimpse(censoHoras)\n",
        "\n",
        "#Ordenar por edad en orden descendente\n",
        "\n",
        "censoEdad <- arrange(censo,desc(age))\n",
        "glimpse(censoEdad)\n",
        "\n",
        "#Cambiar de nombre a la columna age por edad\n",
        "\n",
        "censoEdad %>%\n",
        "  rename(edad = age) %>%\n",
        "  names()"
      ]
    }
  ]
}